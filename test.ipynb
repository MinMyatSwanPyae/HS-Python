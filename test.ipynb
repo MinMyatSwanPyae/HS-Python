{
 "cells": [
  {
   "cell_type": "code",
   "execution_count": 3,
   "metadata": {},
   "outputs": [
    {
     "name": "stdout",
     "output_type": "stream",
     "text": [
      "Hello World!\n"
     ]
    }
   ],
   "source": [
    "# This is comment \n",
    "print(\"Hello World!\") # in-line comment "
   ]
  },
  {
   "cell_type": "code",
   "execution_count": 8,
   "metadata": {},
   "outputs": [
    {
     "name": "stdout",
     "output_type": "stream",
     "text": [
      "Hello\n"
     ]
    }
   ],
   "source": [
    "\"\"\" \n",
    "multiline comment\n",
    "Multi\n",
    "\"\"\"\n",
    "\n",
    "print(\"Hello\")"
   ]
  },
  {
   "cell_type": "code",
   "execution_count": 15,
   "metadata": {},
   "outputs": [
    {
     "name": "stdout",
     "output_type": "stream",
     "text": [
      "Hello World!\n",
      "Hello World! Min Myat Swan Pyae\n",
      "HelloWorld!Min MyatSwan Pyae\n",
      "Hello+World!+Min Myat+Swan Pyae\n",
      "Hello\n",
      "World!\n",
      "Min Myat\n",
      "Swan Pyae\n"
     ]
    }
   ],
   "source": [
    "print(\"Hello World!\")\n",
    "print(\"Hello\", \"World!\", \"Min Myat\", \"Swan Pyae\")\n",
    "print(\"Hello\", \"World!\", \"Min Myat\", \"Swan Pyae\", sep=\"\")\n",
    "print(\"Hello\", \"World!\", \"Min Myat\", \"Swan Pyae\", sep=\"+\")\n",
    "print(\"Hello\", \"World!\", \"Min Myat\", \"Swan Pyae\", sep=\"\\n\")\n",
    "\n",
    "# after comma, there mush be a space before another \"World \"\n",
    "\n",
    "#bPrint ထဲမှာ Sep ရဲ့ တန်ဖိုးက ရှိပြီးသား။ Print အပေါ်မှာ hover ထားကြည့်ရင်သိနိုင်တယ်။ Sep ရဲ့ initial value က 0. အဲ့တာကို Sep ရဲ့ တန်ဖိုးကိုပြောင်းလို့ရတယ်။အပေါ်မှာလုပ်ထားတဲ့အတိုင်း\n"
   ]
  },
  {
   "cell_type": "code",
   "execution_count": 24,
   "metadata": {},
   "outputs": [],
   "source": [
    "#Data type in python \n",
    "\"\"\"\n",
    "1. Integer - int \n",
    "2. floating point - float \n",
    "3. string - str \n",
    "4. boolean - bool \n",
    "5. Nonetypes \n",
    "\"\"\"\n",
    "\n",
    "#int\n",
    "1,2,0,-1,-5,0\n",
    "int()\n",
    "\n",
    "#Float \n",
    "1.1, 1.3, 0.0, 5.5\n",
    "float()\n",
    "\n",
    "#string\n",
    "\"Min Myat is String\"\n",
    "str()\n",
    "\n",
    "#boolean \n",
    "True, False \n",
    "bool()\n",
    "\n",
    "# Nontypes\n",
    "None "
   ]
  },
  {
   "cell_type": "code",
   "execution_count": 27,
   "metadata": {},
   "outputs": [
    {
     "data": {
      "text/plain": [
       "float"
      ]
     },
     "execution_count": 27,
     "metadata": {},
     "output_type": "execute_result"
    }
   ],
   "source": [
    "type(0.0)\n",
    "# data type ကိုစစ်ချင်ရင် type() နဲ့စစ်လို့ရတယ် "
   ]
  },
  {
   "cell_type": "code",
   "execution_count": 28,
   "metadata": {},
   "outputs": [
    {
     "data": {
      "text/plain": [
       "True"
      ]
     },
     "execution_count": 28,
     "metadata": {},
     "output_type": "execute_result"
    }
   ],
   "source": [
    "isinstance(-1, int)\n",
    "\n",
    "# isinstance ကို ဘယ်မှာသုံးလဲဆိုတော့ to check if the first argument is the second argument or not "
   ]
  },
  {
   "cell_type": "code",
   "execution_count": null,
   "metadata": {},
   "outputs": [],
   "source": []
  }
 ],
 "metadata": {
  "kernelspec": {
   "display_name": "swan_hs_coding_class_env",
   "language": "python",
   "name": "python3"
  },
  "language_info": {
   "codemirror_mode": {
    "name": "ipython",
    "version": 3
   },
   "file_extension": ".py",
   "mimetype": "text/x-python",
   "name": "python",
   "nbconvert_exporter": "python",
   "pygments_lexer": "ipython3",
   "version": "3.12.4"
  }
 },
 "nbformat": 4,
 "nbformat_minor": 2
}
