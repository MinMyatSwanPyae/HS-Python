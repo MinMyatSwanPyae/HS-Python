{
 "cells": [
  {
   "cell_type": "code",
   "execution_count": 1,
   "metadata": {},
   "outputs": [
    {
     "data": {
      "text/plain": [
       "70"
      ]
     },
     "execution_count": 1,
     "metadata": {},
     "output_type": "execute_result"
    }
   ],
   "source": [
    "# String \n",
    "\n",
    "empty_string = \"\" #declaring empty string \n",
    "empty_string = '' #declaring empty string \n",
    "empty_string = \"\"\" \"\"\" #declaring multi line empty string \n",
    "empty_string = str()\n",
    "\n",
    "s  = \"Jedi Loves Ve\"\n",
    "s = \"\"\" \n",
    "Jedi loves Ve \n",
    "Jedi loves Aomsub \n",
    "Jedi loves Soda\n",
    "Jedi loves Pizza \n",
    "\"\"\"\n",
    "\n",
    "my_sent = \" I'm a boy\"\n",
    "my_sent = 'she said that \\\"I am a boy\\\"'\n",
    "\n",
    "s1 = \"Hello, \"\n",
    "s2 = \"Vetiti\"\n",
    "\n",
    "s3 = \"Palm\"\n",
    "\n",
    "# print(s3 * 3)\n",
    "\n",
    "len(s)\n",
    "\n",
    "# String \n",
    "\n",
    "empty_string = \"\" #declaring empty string \n",
    "empty_string = '' #declaring empty string \n",
    "empty_string = \"\"\" \"\"\" #declaring multi line empty string \n",
    "empty_string = str()\n",
    "\n",
    "s  = \"Jedi Loves Ve\"\n",
    "s = \"\"\" \n",
    "Jedi loves Ve \n",
    "Jedi loves Aomsub \n",
    "Jedi loves Soda\n",
    "Jedi loves Pizza \n",
    "\"\"\"\n",
    "\n",
    "my_sent = \" I'm a boy\"\n",
    "my_sent = 'she said that \\\"I am a boy\\\"'\n",
    "\n",
    "s1 = \"Hello, \"\n",
    "s2 = \"Vetiti\"\n",
    "\n",
    "s3 = \"Palm\"\n",
    "\n",
    "# print(s3 * 3)\n",
    "\n",
    "len(s)\n",
    "\n"
   ]
  },
  {
   "cell_type": "markdown",
   "metadata": {},
   "source": [
    "# Indexing "
   ]
  },
  {
   "cell_type": "code",
   "execution_count": 7,
   "metadata": {},
   "outputs": [
    {
     "ename": "TypeError",
     "evalue": "string indices must be integers, not 'float'",
     "output_type": "error",
     "traceback": [
      "\u001b[0;31m---------------------------------------------------------------------------\u001b[0m",
      "\u001b[0;31mTypeError\u001b[0m                                 Traceback (most recent call last)",
      "Cell \u001b[0;32mIn[7], line 14\u001b[0m\n\u001b[1;32m     11\u001b[0m \u001b[38;5;66;03m# negative number တွေလည်းထည့်လို့ရတယ်။ ဥပမာအားဖြင့် ကိန်းစဉ်ကို sentence ရဲ့ အဆုံးကနေ count ချင်ရင် negative နဲ့ပြလိုက်လို့ရတယ် \u001b[39;00m\n\u001b[1;32m     13\u001b[0m b \u001b[38;5;241m=\u001b[39m \u001b[38;5;124m\"\u001b[39m\u001b[38;5;124mBangkok, Thailand: 100C\u001b[39m\u001b[38;5;124m\"\u001b[39m\n\u001b[0;32m---> 14\u001b[0m \u001b[43mb\u001b[49m\u001b[43m[\u001b[49m\u001b[38;5;241;43m2.5\u001b[39;49m\u001b[43m]\u001b[49m\n",
      "\u001b[0;31mTypeError\u001b[0m: string indices must be integers, not 'float'"
     ]
    }
   ],
   "source": [
    "s = \"Hello, world!\"\n",
    "\n",
    "# pyyhon မှာက 0 ကနေ စ count တယ်။ ဆိုတော့ အပေါ်က case မှာ H က 0 \n",
    "\n",
    "s[12]\n",
    "\n",
    "\n",
    "\n",
    "a = \"Bangkok, Thailand: 100C\"\n",
    "a[-1]\n",
    "# negative number တွေလည်းထည့်လို့ရတယ်။ ဥပမာအားဖြင့် ကိန်းစဉ်ကို sentence ရဲ့ အဆုံးကနေ count ချင်ရင် negative နဲ့ပြလိုက်လို့ရတယ် \n",
    "\n",
    "b = \"Bangkok, Thailand: 100C\"\n",
    "b[2.5] # error becoz the number should be integer \n"
   ]
  },
  {
   "cell_type": "code",
   "execution_count": null,
   "metadata": {},
   "outputs": [],
   "source": []
  },
  {
   "cell_type": "markdown",
   "metadata": {},
   "source": [
    "## Slicing "
   ]
  },
  {
   "cell_type": "code",
   "execution_count": 14,
   "metadata": {},
   "outputs": [
    {
     "data": {
      "text/plain": [
       "'I love cock'"
      ]
     },
     "execution_count": 14,
     "metadata": {},
     "output_type": "execute_result"
    }
   ],
   "source": [
    "s = \" I love peacock!\"\n",
    "\n",
    "s[1:8] + s[11:15] # the first number is start, and the second number is stop "
   ]
  },
  {
   "cell_type": "code",
   "execution_count": 16,
   "metadata": {},
   "outputs": [
    {
     "data": {
      "text/plain": [
       "'ock!'"
      ]
     },
     "execution_count": 16,
     "metadata": {},
     "output_type": "execute_result"
    }
   ],
   "source": [
    "s[:6] # start from the beginning and ends before 6\n",
    "s[12:] #tart from the till the end \n"
   ]
  },
  {
   "cell_type": "markdown",
   "metadata": {},
   "source": [
    "## f-string format (String Format)"
   ]
  },
  {
   "cell_type": "code",
   "execution_count": 22,
   "metadata": {},
   "outputs": [
    {
     "name": "stdout",
     "output_type": "stream",
     "text": [
      "Hello, Swan. Your age is 21 and your birthday is Oct 10 .\n"
     ]
    }
   ],
   "source": [
    "user_name = input(\"Enter Your Name\")\n",
    "age =input(\"Enter Your Age\")\n",
    "birthday = input(\"Enter Your Birthday\")\n",
    "greeting_msg = \"Hello, \" + user_name + \". Your age is \" + age + \\\n",
    "\", and your birthday is \" + birthday + \".\"\n",
    "\n",
    "greeting_msg_formatted = f\"Hello, {user_name}. Your age is {age} and your birthday is {birthday}.\"\n",
    "\n",
    "print(greeting_msg_formatted)"
   ]
  },
  {
   "cell_type": "markdown",
   "metadata": {},
   "source": [
    "## Spliting \n"
   ]
  },
  {
   "cell_type": "code",
   "execution_count": 24,
   "metadata": {},
   "outputs": [
    {
     "data": {
      "text/plain": [
       "['Hello,',\n",
       " 'Swan.',\n",
       " 'Your',\n",
       " 'age',\n",
       " 'is',\n",
       " '21',\n",
       " 'and',\n",
       " 'your',\n",
       " 'birthday',\n",
       " 'is',\n",
       " 'Oct',\n",
       " '10',\n",
       " '.']"
      ]
     },
     "execution_count": 24,
     "metadata": {},
     "output_type": "execute_result"
    }
   ],
   "source": [
    "greeting_msg_formatted.split()"
   ]
  },
  {
   "cell_type": "code",
   "execution_count": 38,
   "metadata": {},
   "outputs": [
    {
     "data": {
      "text/plain": [
       "['I love b', 'n', 'n', '']"
      ]
     },
     "execution_count": 38,
     "metadata": {},
     "output_type": "execute_result"
    }
   ],
   "source": [
    "s = \"I love banana\"   \n",
    "s.split(\"a\") # split မှာက အစကတည်းက \" \" နဲ့ split ထားပြီးသားပဲ။ တခြားတစ်ခုနဲ့ split ချင်တယ်ဆိုရင် \"a\" ဆိုပြီးလုပ်လိုက်လို့ရတယ်။ အဲ့လိုဆို a နဲ့ spilit သွားတယ် "
   ]
  },
  {
   "cell_type": "markdown",
   "metadata": {},
   "source": [
    "## in/not in operators "
   ]
  },
  {
   "cell_type": "code",
   "execution_count": 32,
   "metadata": {},
   "outputs": [
    {
     "name": "stdout",
     "output_type": "stream",
     "text": [
      "True\n"
     ]
    }
   ],
   "source": [
    "s = \"I love peacock!\"\n",
    "print(\"o\" in s)"
   ]
  },
  {
   "cell_type": "code",
   "execution_count": 36,
   "metadata": {},
   "outputs": [
    {
     "name": "stdout",
     "output_type": "stream",
     "text": [
      "Yayyy\n"
     ]
    }
   ],
   "source": [
    "s = \"I love peacock!\"\n",
    "\n",
    "say_smt = input()\n",
    "\n",
    "if say_smt in s: \n",
    "    print(\"Yayyy\")\n",
    "elif say_smt in s: \n",
    "    print(\"Swan\")\n",
    "else: \n",
    "    print(\"HaHa\" * 5)\n"
   ]
  },
  {
   "cell_type": "code",
   "execution_count": 37,
   "metadata": {},
   "outputs": [
    {
     "name": "stdout",
     "output_type": "stream",
     "text": [
      "Yayyy\n"
     ]
    }
   ],
   "source": [
    "s = \"I love peacock!\"\n",
    "say_smt = input()\n",
    "\n",
    "if say_smt not in s: \n",
    "    print(\"Yayyy\")\n",
    "elif say_smt in s: \n",
    "    print(\"Swan\")\n",
    "else: \n",
    "    print(\"HaHa\" * 5)"
   ]
  },
  {
   "cell_type": "code",
   "execution_count": 63,
   "metadata": {},
   "outputs": [
    {
     "name": "stdout",
     "output_type": "stream",
     "text": [
      "I lIve peacIck\n"
     ]
    }
   ],
   "source": [
    "s = \"I love peacock\"\n",
    "s.count(\"cock\")\n",
    "\n",
    "s.capitalize()  # ပထမဆုံး character ကိုပဲ capitalize လုပ်တာ\n",
    "\n",
    "s.upper() # အားလုံးကို အကြီးပြောင်းတာ \n",
    "\n",
    "s.lower() # အားလုံးကို အသေးပြောင်းတာ \n",
    "\n",
    "s.isupper()\n",
    "\n",
    "s.replace(\"o\", \"I\")\n",
    "\n",
    "result = s.replace(\"o\", \"I\")\n",
    "print(result)"
   ]
  },
  {
   "cell_type": "code",
   "execution_count": 61,
   "metadata": {},
   "outputs": [
    {
     "data": {
      "text/plain": [
       "'I lIve peacIck'"
      ]
     },
     "execution_count": 61,
     "metadata": {},
     "output_type": "execute_result"
    }
   ],
   "source": [
    "s.isupper()\n",
    "\n",
    "s.replace(\"o\", \"I\")"
   ]
  },
  {
   "cell_type": "code",
   "execution_count": 68,
   "metadata": {},
   "outputs": [
    {
     "name": "stdout",
     "output_type": "stream",
     "text": [
      "0 i\n",
      "1  \n",
      "2 l\n",
      "3 o\n",
      "4 v\n",
      "5 e\n",
      "6  \n",
      "7 p\n",
      "8 e\n",
      "9 a\n",
      "10 c\n",
      "11 o\n",
      "12 c\n",
      "13 k\n"
     ]
    }
   ],
   "source": [
    "s = \"i love peacock\"\n",
    "for i in range(14):\n",
    "    print(i, s[i])"
   ]
  },
  {
   "cell_type": "code",
   "execution_count": 69,
   "metadata": {},
   "outputs": [
    {
     "ename": "SyntaxError",
     "evalue": "invalid syntax (3200697811.py, line 2)",
     "output_type": "error",
     "traceback": [
      "\u001b[0;36m  Cell \u001b[0;32mIn[69], line 2\u001b[0;36m\u001b[0m\n\u001b[0;31m    for i range(len(s)):\u001b[0m\n\u001b[0m          ^\u001b[0m\n\u001b[0;31mSyntaxError\u001b[0m\u001b[0;31m:\u001b[0m invalid syntax\n"
     ]
    }
   ],
   "source": [
    "s = \"i love peacock\"\n",
    "for i range(len(s)):\n",
    "    print(s[i])"
   ]
  },
  {
   "cell_type": "markdown",
   "metadata": {},
   "source": [
    "## Enumerate"
   ]
  },
  {
   "cell_type": "code",
   "execution_count": 71,
   "metadata": {},
   "outputs": [
    {
     "name": "stdout",
     "output_type": "stream",
     "text": [
      "0 i\n",
      "1  \n",
      "2 l\n",
      "3 o\n",
      "4 v\n",
      "5 e\n",
      "6  \n",
      "7 p\n",
      "8 e\n",
      "9 a\n",
      "10 c\n",
      "11 o\n",
      "12 c\n",
      "13 k\n"
     ]
    }
   ],
   "source": [
    "s = \"i love peacock\"\n",
    "for i, c in enumerate(s): \n",
    "    print(i, c)"
   ]
  },
  {
   "cell_type": "code",
   "execution_count": 72,
   "metadata": {},
   "outputs": [
    {
     "name": "stdout",
     "output_type": "stream",
     "text": [
      "i 0\n",
      "  1\n",
      "l 2\n",
      "o 3\n",
      "v 4\n",
      "e 5\n",
      "  6\n",
      "p 7\n",
      "e 8\n",
      "a 9\n",
      "c 10\n",
      "o 11\n",
      "c 12\n",
      "k 13\n"
     ]
    }
   ],
   "source": [
    "s = \"i love peacock\"\n",
    "for c, i in enumerate(s): \n",
    "    print(i, c)"
   ]
  }
 ],
 "metadata": {
  "kernelspec": {
   "display_name": "swan_hs_coding_class_env",
   "language": "python",
   "name": "python3"
  },
  "language_info": {
   "codemirror_mode": {
    "name": "ipython",
    "version": 3
   },
   "file_extension": ".py",
   "mimetype": "text/x-python",
   "name": "python",
   "nbconvert_exporter": "python",
   "pygments_lexer": "ipython3",
   "version": "3.12.4"
  }
 },
 "nbformat": 4,
 "nbformat_minor": 2
}
