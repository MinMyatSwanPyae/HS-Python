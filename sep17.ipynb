{
 "cells": [
  {
   "cell_type": "code",
   "execution_count": 3,
   "metadata": {},
   "outputs": [
    {
     "name": "stdout",
     "output_type": "stream",
     "text": [
      "i = 0, j = 0\n",
      "i = 0, j = 1\n",
      "i = 1, j = 0\n",
      "i = 1, j = 1\n",
      "i = 2, j = 0\n",
      "i = 2, j = 1\n"
     ]
    }
   ],
   "source": []
  },
  {
   "cell_type": "code",
   "execution_count": 2,
   "metadata": {},
   "outputs": [
    {
     "name": "stdout",
     "output_type": "stream",
     "text": [
      "2 2\n",
      "2 4\n",
      "3 2\n",
      "3 4\n",
      "4 2\n",
      "4 4\n"
     ]
    }
   ],
   "source": [
    "# Nested Loop \n",
    "\n",
    "for i in range(2, 5):  # Outer loop: i takes values from 2 to 4 (5 is not included)\n",
    "    for j in range(2, 6, 2):  # Inner loop: j takes values from 2 to 5, in steps of 2 (so j = 2, 4)\n",
    "        print(i, j)"
   ]
  },
  {
   "cell_type": "code",
   "execution_count": 4,
   "metadata": {},
   "outputs": [
    {
     "name": "stdout",
     "output_type": "stream",
     "text": [
      "2\n",
      "3\n",
      "6\n",
      "4\n",
      "8\n",
      "12\n"
     ]
    }
   ],
   "source": [
    "for a in range(5):\n",
    "    for b in range(1, a):\n",
    "        print(a * b)"
   ]
  },
  {
   "cell_type": "code",
   "execution_count": 1,
   "metadata": {},
   "outputs": [
    {
     "name": "stdout",
     "output_type": "stream",
     "text": [
      "2 1\n",
      "3\n",
      "3 3\n",
      "12\n",
      "4 1\n",
      "5\n",
      "5 3\n",
      "18\n"
     ]
    }
   ],
   "source": [
    "i = 2 \n",
    "while i < 5: \n",
    "    for j in range (1, 5, 2):\n",
    "        print (i, j)\n",
    "        i +=1\n",
    "        print (i * j)"
   ]
  }
 ],
 "metadata": {
  "kernelspec": {
   "display_name": "swan_hs_coding_class_env",
   "language": "python",
   "name": "python3"
  },
  "language_info": {
   "codemirror_mode": {
    "name": "ipython",
    "version": 3
   },
   "file_extension": ".py",
   "mimetype": "text/x-python",
   "name": "python",
   "nbconvert_exporter": "python",
   "pygments_lexer": "ipython3",
   "version": "3.12.4"
  }
 },
 "nbformat": 4,
 "nbformat_minor": 2
}
