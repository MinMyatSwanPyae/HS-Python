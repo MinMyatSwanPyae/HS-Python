{
 "cells": [
  {
   "cell_type": "markdown",
   "metadata": {},
   "source": [
    "## Review \n",
    "\n",
    "Topics we cover so far \n",
    "\n",
    "### Fundamental \n",
    "- Input\n",
    "- Output \n",
    "- Operations \n",
    "- Condition \n",
    "- Loop \n",
    "- Commonting \n",
    "- variables \n",
    "\n",
    "### Data Structure \n",
    "- String \n",
    "- Containers \n",
    "- Set \n",
    "- Dictionary \n",
    "- Tuple \n",
    "- List \n",
    "\n"
   ]
  }
 ],
 "metadata": {
  "language_info": {
   "name": "python"
  }
 },
 "nbformat": 4,
 "nbformat_minor": 2
}
