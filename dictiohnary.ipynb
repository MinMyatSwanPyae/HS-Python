{
 "cells": [
  {
   "cell_type": "markdown",
   "metadata": {},
   "source": [
    "### Dictionary"
   ]
  },
  {
   "cell_type": "code",
   "execution_count": 28,
   "metadata": {},
   "outputs": [
    {
     "data": {
      "text/plain": [
       "3"
      ]
     },
     "execution_count": 28,
     "metadata": {},
     "output_type": "execute_result"
    }
   ],
   "source": [
    "empty_dict = {}\n",
    "empty_dict = dict()\n",
    "\n",
    "animals_legs = {\"horse\": 4, \"human\": 2, \"fish\": 0, \"monkey\": 3, \"pig\": 3, \"pig\": 4, (1,2): 3}  # list, string, set တွေကို key နေရာမှာလည်းထားလို့ရတယ်။ dictionary ထဲမှာလည်း dictionary ထားလို့ရတယ်\n",
    "# key တူလို့ရတယ် ဒါပေမယ့် အရှေ့ကဟာက နှစ်ခုဖြစ်တယ်ဆိုရင် ညာဘက်ဆုံးက ဟာကိုပဲအတည်ယူတယ် \n",
    "\n",
    "#အရှေ့ကဟာက  key အနောက်ကဟာက value\n",
    "\n",
    "animals_legs[(1,2)]\n",
    "\n"
   ]
  },
  {
   "cell_type": "markdown",
   "metadata": {},
   "source": [
    "### Change the value"
   ]
  },
  {
   "cell_type": "code",
   "execution_count": 29,
   "metadata": {},
   "outputs": [
    {
     "data": {
      "text/plain": [
       "6"
      ]
     },
     "execution_count": 29,
     "metadata": {},
     "output_type": "execute_result"
    }
   ],
   "source": [
    "animals_legs[\"horse\"] = 6\n",
    "\n",
    "animals_legs[\"horse\"]"
   ]
  },
  {
   "cell_type": "markdown",
   "metadata": {},
   "source": [
    "add a new key to dictionary"
   ]
  },
  {
   "cell_type": "code",
   "execution_count": 30,
   "metadata": {},
   "outputs": [
    {
     "data": {
      "text/plain": [
       "{'horse': 6,\n",
       " 'human': 2,\n",
       " 'fish': 0,\n",
       " 'monkey': 3,\n",
       " 'pig': 4,\n",
       " (1, 2): 3,\n",
       " 'octopus': 8}"
      ]
     },
     "execution_count": 30,
     "metadata": {},
     "output_type": "execute_result"
    }
   ],
   "source": [
    "animals_legs[\"octopus\"] = 8\n",
    "\n",
    "animals_legs"
   ]
  },
  {
   "cell_type": "markdown",
   "metadata": {},
   "source": [
    "Operations "
   ]
  },
  {
   "cell_type": "code",
   "execution_count": 31,
   "metadata": {},
   "outputs": [
    {
     "data": {
      "text/plain": [
       "7"
      ]
     },
     "execution_count": 31,
     "metadata": {},
     "output_type": "execute_result"
    }
   ],
   "source": [
    "animals_legs = {'horse': 6,'human': 2,'fish': 0, 'monkey': 3, 'pig': 4, (1, 2): 3,'octopus': 8}\n",
    "\n",
    "len(animals_legs)"
   ]
  },
  {
   "cell_type": "code",
   "execution_count": 33,
   "metadata": {},
   "outputs": [
    {
     "data": {
      "text/plain": [
       "True"
      ]
     },
     "execution_count": 33,
     "metadata": {},
     "output_type": "execute_result"
    }
   ],
   "source": [
    "\"horse\" in animals_legs # which means if there is a 4 in the keys of animals_legs \n",
    "\n",
    "\"turtle\" not in animals_legs"
   ]
  },
  {
   "cell_type": "markdown",
   "metadata": {},
   "source": [
    "##### Methods"
   ]
  },
  {
   "cell_type": "code",
   "execution_count": 37,
   "metadata": {},
   "outputs": [
    {
     "data": {
      "text/plain": [
       "{'horse': 6,\n",
       " 'human': 2,\n",
       " 'fish': 0,\n",
       " 'monkey': 3,\n",
       " 'pig': 4,\n",
       " (1, 2): 3,\n",
       " 'octopus': 8}"
      ]
     },
     "execution_count": 37,
     "metadata": {},
     "output_type": "execute_result"
    }
   ],
   "source": [
    "animals_legs.get(\"horse\")  \n",
    "\n",
    "animals_legs.get(\"horse\", 5)\n",
    "\n",
    "#vales ကိုဆွဲထုတ်ခြင်း\n",
    "\n",
    "animals_legs"
   ]
  },
  {
   "cell_type": "code",
   "execution_count": 47,
   "metadata": {},
   "outputs": [
    {
     "data": {
      "text/plain": [
       "{}"
      ]
     },
     "execution_count": 47,
     "metadata": {},
     "output_type": "execute_result"
    }
   ],
   "source": [
    "# del animals_legs[\"horse\"]\n",
    "\n",
    "animals_legs"
   ]
  },
  {
   "cell_type": "code",
   "execution_count": 56,
   "metadata": {},
   "outputs": [
    {
     "data": {
      "text/plain": [
       "['horse', 'human', 'fish', 'monkey', 'pig', (1, 2), 'octopus']"
      ]
     },
     "execution_count": 56,
     "metadata": {},
     "output_type": "execute_result"
    }
   ],
   "source": [
    "animals_legs = {'horse': 6,'human': 2,'fish': 0, 'monkey': 3, 'pig': 4, (1, 2): 3,'octopus': 8}\n",
    "\n",
    "\n",
    "list(animals_legs.items())\n",
    "list(animals_legs.keys())\n",
    "list(animals_legs.values())\n",
    "list(animals_legs)\n",
    "\n",
    "list(animals_legs.keys())\n"
   ]
  },
  {
   "cell_type": "code",
   "execution_count": 57,
   "metadata": {},
   "outputs": [
    {
     "name": "stdout",
     "output_type": "stream",
     "text": [
      "horse\n",
      "human\n",
      "fish\n",
      "monkey\n",
      "pig\n",
      "(1, 2)\n",
      "octopus\n"
     ]
    }
   ],
   "source": [
    "animals_legs = {'horse': 6,'human': 2,'fish': 0, 'monkey': 3, 'pig': 4, (1, 2): 3,'octopus': 8}\n",
    "\n",
    "for element in animals_legs: \n",
    "    print(element)"
   ]
  },
  {
   "cell_type": "code",
   "execution_count": 58,
   "metadata": {},
   "outputs": [
    {
     "name": "stdout",
     "output_type": "stream",
     "text": [
      "0 horse\n",
      "1 human\n",
      "2 fish\n",
      "3 monkey\n",
      "4 pig\n",
      "5 (1, 2)\n",
      "6 octopus\n"
     ]
    }
   ],
   "source": [
    "for i, element in enumerate(animals_legs):\n",
    "    print(i, element)"
   ]
  },
  {
   "cell_type": "code",
   "execution_count": 63,
   "metadata": {},
   "outputs": [
    {
     "name": "stdout",
     "output_type": "stream",
     "text": [
      "horse 6\n",
      "human 2\n",
      "fish 0\n",
      "monkey 3\n",
      "pig 4\n",
      "(1, 2) 3\n",
      "octopus 8\n"
     ]
    }
   ],
   "source": [
    "for i, ele in animals_legs.items():\n",
    "    print(i, ele)"
   ]
  },
  {
   "cell_type": "code",
   "execution_count": 65,
   "metadata": {},
   "outputs": [
    {
     "name": "stdout",
     "output_type": "stream",
     "text": [
      "horse\n",
      "human\n",
      "fish\n",
      "monkey\n",
      "pig\n",
      "(1, 2)\n",
      "octopus\n"
     ]
    }
   ],
   "source": [
    "for k in animals_legs.keys():\n",
    "    print(k)"
   ]
  },
  {
   "cell_type": "code",
   "execution_count": 66,
   "metadata": {},
   "outputs": [
    {
     "name": "stdout",
     "output_type": "stream",
     "text": [
      "6\n",
      "2\n",
      "0\n",
      "3\n",
      "4\n",
      "3\n",
      "8\n"
     ]
    }
   ],
   "source": [
    "for v in animals_legs.values():\n",
    "    print(v)"
   ]
  }
 ],
 "metadata": {
  "kernelspec": {
   "display_name": "swan_hs_coding_class_env",
   "language": "python",
   "name": "python3"
  },
  "language_info": {
   "codemirror_mode": {
    "name": "ipython",
    "version": 3
   },
   "file_extension": ".py",
   "mimetype": "text/x-python",
   "name": "python",
   "nbconvert_exporter": "python",
   "pygments_lexer": "ipython3",
   "version": "3.12.4"
  }
 },
 "nbformat": 4,
 "nbformat_minor": 2
}
